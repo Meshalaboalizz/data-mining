{
  "nbformat": 4,
  "nbformat_minor": 0,
  "metadata": {
    "colab": {
      "provenance": [],
      "authorship_tag": "ABX9TyOrlt2VZtICq0gIPYH0N9Uh",
      "include_colab_link": true
    },
    "kernelspec": {
      "name": "python3",
      "display_name": "Python 3"
    },
    "language_info": {
      "name": "python"
    }
  },
  "cells": [
    {
      "cell_type": "markdown",
      "metadata": {
        "id": "view-in-github",
        "colab_type": "text"
      },
      "source": [
        "<a href=\"https://colab.research.google.com/github/Meshalaboalizz/data-mining/blob/main/python_tutorial_1.ipynb\" target=\"_parent\"><img src=\"https://colab.research.google.com/assets/colab-badge.svg\" alt=\"Open In Colab\"/></a>"
      ]
    },
    {
      "cell_type": "code",
      "execution_count": null,
      "metadata": {
        "id": "syS4PhKNx_De"
      },
      "outputs": [],
      "source": []
    },
    {
      "cell_type": "markdown",
      "source": [
        "simple variable"
      ],
      "metadata": {
        "id": "2MhnK3jjyCmw"
      }
    },
    {
      "cell_type": "code",
      "source": [
        "a=10\n",
        "print(\"this variable name a\", a)"
      ],
      "metadata": {
        "colab": {
          "base_uri": "https://localhost:8080/"
        },
        "id": "H26EABczyQHT",
        "outputId": "e3424d77-5210-49f7-f388-c2a65880948a"
      },
      "execution_count": 4,
      "outputs": [
        {
          "output_type": "stream",
          "name": "stdout",
          "text": [
            "this variable name a 10\n"
          ]
        }
      ]
    },
    {
      "cell_type": "code",
      "source": [
        "b=15\n",
        "print(\"this variable name b\", b)"
      ],
      "metadata": {
        "colab": {
          "base_uri": "https://localhost:8080/"
        },
        "id": "CcEQ_TDnzHxL",
        "outputId": "b8a3da40-28ad-46a9-f89d-80ab1edbf86a"
      },
      "execution_count": 5,
      "outputs": [
        {
          "output_type": "stream",
          "name": "stdout",
          "text": [
            "this variable name b 15\n"
          ]
        }
      ]
    }
  ]
}